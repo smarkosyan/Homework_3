{
  "nbformat": 4,
  "nbformat_minor": 0,
  "metadata": {
    "colab": {
      "name": "problem2.ipynb",
      "provenance": []
    },
    "kernelspec": {
      "name": "python3",
      "display_name": "Python 3"
    }
  },
  "cells": [
    {
      "cell_type": "code",
      "metadata": {
        "id": "tGbfNTKsOysB",
        "colab_type": "code",
        "colab": {
          "base_uri": "https://localhost:8080/",
          "height": 1000
        },
        "outputId": "e4895391-c05e-4069-d820-7059da91cc6c"
      },
      "source": [
        "!pip install scrapy"
      ],
      "execution_count": 1,
      "outputs": [
        {
          "output_type": "stream",
          "text": [
            "Collecting scrapy\n",
            "\u001b[?25l  Downloading https://files.pythonhosted.org/packages/d2/b1/105fe9a289e5bb64ec104076546f72060296d9989a0fc31a8b608c810868/Scrapy-2.2.0-py2.py3-none-any.whl (241kB)\n",
            "\u001b[K     |████████████████████████████████| 245kB 4.1MB/s \n",
            "\u001b[?25hCollecting Twisted>=17.9.0\n",
            "\u001b[?25l  Downloading https://files.pythonhosted.org/packages/b7/04/1a664c9e5ec0224a1c1a154ddecaa4dc7b8967521bba225efcc41a03d5f3/Twisted-20.3.0-cp36-cp36m-manylinux1_x86_64.whl (3.1MB)\n",
            "\u001b[K     |████████████████████████████████| 3.1MB 7.9MB/s \n",
            "\u001b[?25hCollecting protego>=0.1.15\n",
            "\u001b[?25l  Downloading https://files.pythonhosted.org/packages/db/6e/bf6d5e4d7cf233b785719aaec2c38f027b9c2ed980a0015ec1a1cced4893/Protego-0.1.16.tar.gz (3.2MB)\n",
            "\u001b[K     |████████████████████████████████| 3.2MB 40.6MB/s \n",
            "\u001b[?25hRequirement already satisfied: lxml>=3.5.0 in /usr/local/lib/python3.6/dist-packages (from scrapy) (4.2.6)\n",
            "Collecting w3lib>=1.17.0\n",
            "  Downloading https://files.pythonhosted.org/packages/a3/59/b6b14521090e7f42669cafdb84b0ab89301a42f1f1a82fcf5856661ea3a7/w3lib-1.22.0-py2.py3-none-any.whl\n",
            "Collecting PyDispatcher>=2.0.5\n",
            "  Downloading https://files.pythonhosted.org/packages/cd/37/39aca520918ce1935bea9c356bcbb7ed7e52ad4e31bff9b943dfc8e7115b/PyDispatcher-2.0.5.tar.gz\n",
            "Collecting itemadapter>=0.1.0\n",
            "  Downloading https://files.pythonhosted.org/packages/7d/fb/92f848fcfa85dc9f95370eaecb5c99b5230dd4fc5c6bae684f4ca59df973/itemadapter-0.1.0-py3-none-any.whl\n",
            "Collecting zope.interface>=4.1.3\n",
            "\u001b[?25l  Downloading https://files.pythonhosted.org/packages/57/33/565274c28a11af60b7cfc0519d46bde4125fcd7d32ebc0a81b480d0e8da6/zope.interface-5.1.0-cp36-cp36m-manylinux2010_x86_64.whl (234kB)\n",
            "\u001b[K     |████████████████████████████████| 235kB 36.5MB/s \n",
            "\u001b[?25hCollecting cssselect>=0.9.1\n",
            "  Downloading https://files.pythonhosted.org/packages/3b/d4/3b5c17f00cce85b9a1e6f91096e1cc8e8ede2e1be8e96b87ce1ed09e92c5/cssselect-1.1.0-py2.py3-none-any.whl\n",
            "Collecting pyOpenSSL>=16.2.0\n",
            "\u001b[?25l  Downloading https://files.pythonhosted.org/packages/9e/de/f8342b68fa9e981d348039954657bdf681b2ab93de27443be51865ffa310/pyOpenSSL-19.1.0-py2.py3-none-any.whl (53kB)\n",
            "\u001b[K     |████████████████████████████████| 61kB 6.9MB/s \n",
            "\u001b[?25hCollecting parsel>=1.5.0\n",
            "  Downloading https://files.pythonhosted.org/packages/23/1e/9b39d64cbab79d4362cdd7be7f5e9623d45c4a53b3f7522cd8210df52d8e/parsel-1.6.0-py2.py3-none-any.whl\n",
            "Collecting service-identity>=16.0.0\n",
            "  Downloading https://files.pythonhosted.org/packages/e9/7c/2195b890023e098f9618d43ebc337d83c8b38d414326685339eb024db2f6/service_identity-18.1.0-py2.py3-none-any.whl\n",
            "Collecting queuelib>=1.4.2\n",
            "  Downloading https://files.pythonhosted.org/packages/4c/85/ae64e9145f39dd6d14f8af3fa809a270ef3729f3b90b3c0cf5aa242ab0d4/queuelib-1.5.0-py2.py3-none-any.whl\n",
            "Collecting cryptography>=2.0\n",
            "\u001b[?25l  Downloading https://files.pythonhosted.org/packages/3c/04/686efee2dcdd25aecf357992e7d9362f443eb182ecd623f882bc9f7a6bba/cryptography-2.9.2-cp35-abi3-manylinux2010_x86_64.whl (2.7MB)\n",
            "\u001b[K     |████████████████████████████████| 2.7MB 36.7MB/s \n",
            "\u001b[?25hRequirement already satisfied: attrs>=19.2.0 in /usr/local/lib/python3.6/dist-packages (from Twisted>=17.9.0->scrapy) (19.3.0)\n",
            "Collecting constantly>=15.1\n",
            "  Downloading https://files.pythonhosted.org/packages/b9/65/48c1909d0c0aeae6c10213340ce682db01b48ea900a7d9fce7a7910ff318/constantly-15.1.0-py2.py3-none-any.whl\n",
            "Collecting incremental>=16.10.1\n",
            "  Downloading https://files.pythonhosted.org/packages/f5/1d/c98a587dc06e107115cf4a58b49de20b19222c83d75335a192052af4c4b7/incremental-17.5.0-py2.py3-none-any.whl\n",
            "Collecting hyperlink>=17.1.1\n",
            "  Downloading https://files.pythonhosted.org/packages/7f/91/e916ca10a2de1cb7101a9b24da546fb90ee14629e23160086cf3361c4fb8/hyperlink-19.0.0-py2.py3-none-any.whl\n",
            "Collecting Automat>=0.3.0\n",
            "  Downloading https://files.pythonhosted.org/packages/dd/83/5f6f3c1a562674d65efc320257bdc0873ec53147835aeef7762fe7585273/Automat-20.2.0-py2.py3-none-any.whl\n",
            "Collecting PyHamcrest!=1.10.0,>=1.9.0\n",
            "\u001b[?25l  Downloading https://files.pythonhosted.org/packages/40/16/e54cc65891f01cb62893540f44ffd3e8dab0a22443e1b438f1a9f5574bee/PyHamcrest-2.0.2-py3-none-any.whl (52kB)\n",
            "\u001b[K     |████████████████████████████████| 61kB 7.1MB/s \n",
            "\u001b[?25hRequirement already satisfied: six in /usr/local/lib/python3.6/dist-packages (from protego>=0.1.15->scrapy) (1.12.0)\n",
            "Requirement already satisfied: setuptools in /usr/local/lib/python3.6/dist-packages (from zope.interface>=4.1.3->scrapy) (47.3.1)\n",
            "Requirement already satisfied: pyasn1 in /usr/local/lib/python3.6/dist-packages (from service-identity>=16.0.0->scrapy) (0.4.8)\n",
            "Requirement already satisfied: pyasn1-modules in /usr/local/lib/python3.6/dist-packages (from service-identity>=16.0.0->scrapy) (0.2.8)\n",
            "Requirement already satisfied: cffi!=1.11.3,>=1.8 in /usr/local/lib/python3.6/dist-packages (from cryptography>=2.0->scrapy) (1.14.0)\n",
            "Requirement already satisfied: idna>=2.5 in /usr/local/lib/python3.6/dist-packages (from hyperlink>=17.1.1->Twisted>=17.9.0->scrapy) (2.9)\n",
            "Requirement already satisfied: pycparser in /usr/local/lib/python3.6/dist-packages (from cffi!=1.11.3,>=1.8->cryptography>=2.0->scrapy) (2.20)\n",
            "Building wheels for collected packages: protego, PyDispatcher\n",
            "  Building wheel for protego (setup.py) ... \u001b[?25l\u001b[?25hdone\n",
            "  Created wheel for protego: filename=Protego-0.1.16-cp36-none-any.whl size=7765 sha256=acfe299502f8009fa8993815f5b87dd2b89e70604c2d38f8ac9b3451d3f9d6c5\n",
            "  Stored in directory: /root/.cache/pip/wheels/51/01/d1/4a2286a976dccd025ba679acacfe37320540df0f2283ecab12\n",
            "  Building wheel for PyDispatcher (setup.py) ... \u001b[?25l\u001b[?25hdone\n",
            "  Created wheel for PyDispatcher: filename=PyDispatcher-2.0.5-cp36-none-any.whl size=11515 sha256=0f92c2580bdbccc505b0f6a29a6559ad24fca14efddc093c6211dd09f85df9f4\n",
            "  Stored in directory: /root/.cache/pip/wheels/88/99/96/cfef6665f9cb1522ee6757ae5955feedf2fe25f1737f91fa7f\n",
            "Successfully built protego PyDispatcher\n",
            "Installing collected packages: constantly, incremental, hyperlink, Automat, PyHamcrest, zope.interface, Twisted, protego, w3lib, PyDispatcher, itemadapter, cssselect, cryptography, pyOpenSSL, parsel, service-identity, queuelib, scrapy\n",
            "Successfully installed Automat-20.2.0 PyDispatcher-2.0.5 PyHamcrest-2.0.2 Twisted-20.3.0 constantly-15.1.0 cryptography-2.9.2 cssselect-1.1.0 hyperlink-19.0.0 incremental-17.5.0 itemadapter-0.1.0 parsel-1.6.0 protego-0.1.16 pyOpenSSL-19.1.0 queuelib-1.5.0 scrapy-2.2.0 service-identity-18.1.0 w3lib-1.22.0 zope.interface-5.1.0\n"
          ],
          "name": "stdout"
        }
      ]
    },
    {
      "cell_type": "code",
      "metadata": {
        "id": "VBkS4SDTPA5L",
        "colab_type": "code",
        "colab": {}
      },
      "source": [
        "import re\n",
        "import time\n",
        "import requests\n",
        "import numpy as np\n",
        "import pandas as pd\n",
        "from scrapy.http import TextResponse"
      ],
      "execution_count": 2,
      "outputs": []
    },
    {
      "cell_type": "code",
      "metadata": {
        "id": "uT3x0zJBPERD",
        "colab_type": "code",
        "colab": {}
      },
      "source": [
        "url = \"https://staff.am/en/jobs\"\n",
        "base_url = \"https://staff.am\""
      ],
      "execution_count": 3,
      "outputs": []
    },
    {
      "cell_type": "code",
      "metadata": {
        "id": "op0UkmU7PHJD",
        "colab_type": "code",
        "colab": {}
      },
      "source": [
        "class Announcments:\n",
        "    def __init__(self,url):\n",
        "        self.url = url\n",
        "        self.page = requests.get(self.url)\n",
        "        self.response = TextResponse(body=self.page.text,url=self.url,encoding=\"utf-8\")\n",
        "\n",
        "    def get_vacancy(self):\n",
        "        vac = self.response.xpath('//div[@class=\"job-inner job-item-title\"]/p[@class=\"font_bold\"]/text()').extract()\n",
        "        return vac \n",
        "\n",
        "    def get_company(self):\n",
        "        comp = self.response.xpath('//div[@class=\"job-inner job-item-title\"]/p[@class=\"job_list_company_title\"]/text()').extract()\n",
        "        return comp\n",
        "\n",
        "    def get_deadline(self):\n",
        "        dl1 = self.response.css('div[class=\"job-inner job-list-deadline\"] p::text').extract()\n",
        "        dl2 = [''.join(x) for x in zip(dl1[0::2], dl1[1::2])]\n",
        "        del dl2[1::2]\n",
        "        dl = [i.replace(\"\\n\\n\", \"\").replace(\"\\n\",\" \").strip() for i in dl2]\n",
        "        return dl \n",
        "\n",
        "    def get_location(self):\n",
        "        loc = self.response.xpath('//div[@class=\"job-inner job-list-deadline\"]/p[@class=\"job_location\"]/text()').extract()\n",
        "        loc = [i.replace('\\n','').strip() for i in loc]\n",
        "        return loc \n",
        "\n",
        "    def get_ind_page(self):\n",
        "        ind_page = [base_url + i for i in self.response.xpath('//div[@class=\"list-view\"]/div/div/a/@href').extract()]\n",
        "        return ind_page\n",
        "\n",
        "    def get_next(self):\n",
        "        page = self.response.xpath('//ul[@class=\"pagination\"]/li[@class=\"next\"]/a/@href').extract()\n",
        "        return page"
      ],
      "execution_count": 4,
      "outputs": []
    },
    {
      "cell_type": "code",
      "metadata": {
        "id": "54kSZkosPQpr",
        "colab_type": "code",
        "colab": {}
      },
      "source": [
        "j = Announcments(url)\n",
        "vacancies = []\n",
        "companies = []\n",
        "deadlines = []\n",
        "locations = []\n",
        "i_pages = []\n",
        "announcments = []"
      ],
      "execution_count": 5,
      "outputs": []
    },
    {
      "cell_type": "code",
      "metadata": {
        "id": "f_vJBah9PYac",
        "colab_type": "code",
        "colab": {}
      },
      "source": [
        "while True:\n",
        "    if(j.get_next() == []):\n",
        "        vacancies = vacancies + j.get_vacancy()\n",
        "        companies = companies + j.get_company()\n",
        "        deadlines = deadlines + j.get_deadline()\n",
        "        locations = locations + j.get_location()\n",
        "        i_pages = i_pages + j.get_ind_page()\n",
        "        break\n",
        "    else:\n",
        "        vacancies = vacancies + j.get_vacancy()\n",
        "        companies = companies + j.get_company()\n",
        "        deadlines = deadlines + j.get_deadline()\n",
        "        locations = locations + j.get_location()\n",
        "        i_pages = i_pages + j.get_ind_page()\n",
        "        url = base_url + j.get_next()[0]\n",
        "        j = Announcments(url)"
      ],
      "execution_count": 6,
      "outputs": []
    },
    {
      "cell_type": "code",
      "metadata": {
        "id": "edeeXoAUPjna",
        "colab_type": "code",
        "colab": {}
      },
      "source": [
        "locations = [i for i in locations if len(i)>0]"
      ],
      "execution_count": 7,
      "outputs": []
    },
    {
      "cell_type": "code",
      "metadata": {
        "id": "k2yzyirePljS",
        "colab_type": "code",
        "colab": {}
      },
      "source": [
        "announcments.append(vacancies)\n",
        "announcments.append(companies)\n",
        "announcments.append(deadlines)\n",
        "announcments.append(locations)\n",
        "announcments.append(i_pages)"
      ],
      "execution_count": 8,
      "outputs": []
    },
    {
      "cell_type": "code",
      "metadata": {
        "id": "Jcr13ikyPxH7",
        "colab_type": "code",
        "colab": {}
      },
      "source": [
        "announcments = list(map(list, zip(*announcments)))\n",
        "announcments_df = pd.DataFrame(announcments, columns=['Vacancies','Companies','Deadlines','Locations','Individual Pages'])"
      ],
      "execution_count": 9,
      "outputs": []
    },
    {
      "cell_type": "code",
      "metadata": {
        "id": "WlINIX0zP48K",
        "colab_type": "code",
        "colab": {
          "base_uri": "https://localhost:8080/",
          "height": 17
        },
        "outputId": "8ba2be34-143f-40de-f0fc-5a74c577f7f5"
      },
      "source": [
        "from google.colab import files\n",
        "announcments_df.to_csv('HWproblem2.csv')\n",
        "files.download('HWproblem2.csv')"
      ],
      "execution_count": 10,
      "outputs": [
        {
          "output_type": "display_data",
          "data": {
            "application/javascript": [
              "\n",
              "    async function download(id, filename, size) {\n",
              "      if (!google.colab.kernel.accessAllowed) {\n",
              "        return;\n",
              "      }\n",
              "      const div = document.createElement('div');\n",
              "      const label = document.createElement('label');\n",
              "      label.textContent = `Downloading \"${filename}\": `;\n",
              "      div.appendChild(label);\n",
              "      const progress = document.createElement('progress');\n",
              "      progress.max = size;\n",
              "      div.appendChild(progress);\n",
              "      document.body.appendChild(div);\n",
              "\n",
              "      const buffers = [];\n",
              "      let downloaded = 0;\n",
              "\n",
              "      const channel = await google.colab.kernel.comms.open(id);\n",
              "      // Send a message to notify the kernel that we're ready.\n",
              "      channel.send({})\n",
              "\n",
              "      for await (const message of channel.messages) {\n",
              "        // Send a message to notify the kernel that we're ready.\n",
              "        channel.send({})\n",
              "        if (message.buffers) {\n",
              "          for (const buffer of message.buffers) {\n",
              "            buffers.push(buffer);\n",
              "            downloaded += buffer.byteLength;\n",
              "            progress.value = downloaded;\n",
              "          }\n",
              "        }\n",
              "      }\n",
              "      const blob = new Blob(buffers, {type: 'application/binary'});\n",
              "      const a = document.createElement('a');\n",
              "      a.href = window.URL.createObjectURL(blob);\n",
              "      a.download = filename;\n",
              "      div.appendChild(a);\n",
              "      a.click();\n",
              "      div.remove();\n",
              "    }\n",
              "  "
            ],
            "text/plain": [
              "<IPython.core.display.Javascript object>"
            ]
          },
          "metadata": {
            "tags": []
          }
        },
        {
          "output_type": "display_data",
          "data": {
            "application/javascript": [
              "download(\"download_8bb56df6-4cea-49a6-8488-db3276ae46e4\", \"HWproblem2.csv\", 67022)"
            ],
            "text/plain": [
              "<IPython.core.display.Javascript object>"
            ]
          },
          "metadata": {
            "tags": []
          }
        }
      ]
    },
    {
      "cell_type": "code",
      "metadata": {
        "id": "w0urcQyxQ5Fi",
        "colab_type": "code",
        "colab": {}
      },
      "source": [
        "# 1. What is the most popular company in terms of current job posting count? How many jobs do they have posted now?"
      ],
      "execution_count": 14,
      "outputs": []
    },
    {
      "cell_type": "code",
      "metadata": {
        "id": "LSnf9XWrQabD",
        "colab_type": "code",
        "colab": {}
      },
      "source": [
        "a = announcments_df['Companies'].value_counts().idxmax()\n",
        "a_company = []\n",
        "for i in announcments_df['Companies']:\n",
        "    if(i == a):\n",
        "        a_company.append(i)"
      ],
      "execution_count": 12,
      "outputs": []
    },
    {
      "cell_type": "code",
      "metadata": {
        "id": "1BKCl9EGQw1C",
        "colab_type": "code",
        "colab": {
          "base_uri": "https://localhost:8080/",
          "height": 34
        },
        "outputId": "708a6cc2-71d8-47b9-b24f-1175fa42d44d"
      },
      "source": [
        "print(a)"
      ],
      "execution_count": 13,
      "outputs": [
        {
          "output_type": "stream",
          "text": [
            "Digitain \n"
          ],
          "name": "stdout"
        }
      ]
    },
    {
      "cell_type": "code",
      "metadata": {
        "id": "LW8sW_qtQ9fB",
        "colab_type": "code",
        "colab": {}
      },
      "source": [
        "# Digitain is the most popular Comapny ain terms of current announcments"
      ],
      "execution_count": 15,
      "outputs": []
    },
    {
      "cell_type": "code",
      "metadata": {
        "id": "EXD2JhYYQzUp",
        "colab_type": "code",
        "colab": {
          "base_uri": "https://localhost:8080/",
          "height": 35
        },
        "outputId": "f60fbf11-9b96-4847-e601-4d14fe57d55a"
      },
      "source": [
        "str(len(a_company))"
      ],
      "execution_count": 16,
      "outputs": [
        {
          "output_type": "execute_result",
          "data": {
            "application/vnd.google.colaboratory.intrinsic": {
              "type": "string"
            },
            "text/plain": [
              "'32'"
            ]
          },
          "metadata": {
            "tags": []
          },
          "execution_count": 16
        }
      ]
    },
    {
      "cell_type": "code",
      "metadata": {
        "id": "VyVu9c0XRW3D",
        "colab_type": "code",
        "colab": {}
      },
      "source": [
        "# Now they have 32 job announcments"
      ],
      "execution_count": 17,
      "outputs": []
    },
    {
      "cell_type": "code",
      "metadata": {
        "id": "9RklZjMUSc91",
        "colab_type": "code",
        "colab": {}
      },
      "source": [
        "# 2. How many jobs have the word “data” inside?"
      ],
      "execution_count": null,
      "outputs": []
    },
    {
      "cell_type": "code",
      "metadata": {
        "id": "pqy12YnfRvjz",
        "colab_type": "code",
        "colab": {}
      },
      "source": [
        "ad = []\n",
        "for i in announcments_df['Vacancies']:\n",
        "    if(\"Data\" in i or \"DATA\" in i):\n",
        "        ad.append(i)"
      ],
      "execution_count": 18,
      "outputs": []
    },
    {
      "cell_type": "code",
      "metadata": {
        "id": "9m56s-krR6wB",
        "colab_type": "code",
        "colab": {
          "base_uri": "https://localhost:8080/",
          "height": 54
        },
        "outputId": "b78ca563-4d1b-4581-8d36-c63e742ef2b0"
      },
      "source": [
        "print(ad)"
      ],
      "execution_count": 19,
      "outputs": [
        {
          "output_type": "stream",
          "text": [
            "['Data Scientist', 'Data Engineer (Spark)', 'Data analyst', 'Data Engineer', 'Junior Database Administrator', 'Senior Database Administrator', '(SENIOR) DATA/DATABASE ARCHITECT (M/F/D)', 'Data Specialist / QA Engineer', 'Database Administrator', 'Engineering Manager, Java Microservices & Data']\n"
          ],
          "name": "stdout"
        }
      ]
    },
    {
      "cell_type": "code",
      "metadata": {
        "id": "-XvnpxqvSAs9",
        "colab_type": "code",
        "colab": {
          "base_uri": "https://localhost:8080/",
          "height": 35
        },
        "outputId": "5f0a9a20-76c8-4f66-be6e-dbc3e32b9b8b"
      },
      "source": [
        "str(len(ad))"
      ],
      "execution_count": 20,
      "outputs": [
        {
          "output_type": "execute_result",
          "data": {
            "application/vnd.google.colaboratory.intrinsic": {
              "type": "string"
            },
            "text/plain": [
              "'10'"
            ]
          },
          "metadata": {
            "tags": []
          },
          "execution_count": 20
        }
      ]
    },
    {
      "cell_type": "code",
      "metadata": {
        "id": "4i-ECP_8SDIq",
        "colab_type": "code",
        "colab": {}
      },
      "source": [
        "# 10 job announcments have the word \"Data\" inside."
      ],
      "execution_count": 22,
      "outputs": []
    }
  ]
}